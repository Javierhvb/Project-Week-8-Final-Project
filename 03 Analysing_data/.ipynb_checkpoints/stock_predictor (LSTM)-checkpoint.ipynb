{
 "cells": [
  {
   "cell_type": "code",
   "execution_count": 1,
   "metadata": {},
   "outputs": [
    {
     "name": "stderr",
     "output_type": "stream",
     "text": [
      "Using TensorFlow backend.\n"
     ]
    }
   ],
   "source": [
    "import yfinance as yf\n",
    "import numpy as np\n",
    "import matplotlib.pyplot as plt\n",
    "import pandas as pd\n",
    "import datetime as dt\n",
    "from sklearn.preprocessing import MinMaxScaler\n",
    "from keras.models import Sequential\n",
    "from keras.layers import Dense\n",
    "from keras.layers import LSTM\n",
    "from keras.layers import Dropout\n",
    "import math\n",
    "plt.style.use('fivethirtyeight')"
   ]
  },
  {
   "cell_type": "code",
   "execution_count": 3,
   "metadata": {
    "scrolled": false
   },
   "outputs": [
    {
     "name": "stdout",
     "output_type": "stream",
     "text": [
      "[*********************100%***********************]  1 of 1 completed\n",
      "[*********************100%***********************]  1 of 1 completed\n",
      "[*********************100%***********************]  1 of 1 completed\n",
      "[*********************100%***********************]  1 of 1 completed\n",
      "[*********************100%***********************]  1 of 1 completed\n",
      "[*********************100%***********************]  1 of 1 completed\n"
     ]
    }
   ],
   "source": [
    "df = get_stock_data('TSLA')\n",
    "netflix = get_stock_data('NFLX')\n",
    "amazon = get_stock_data('YELP')\n",
    "nike = get_stock_data('AMZN')\n",
    "starbucks = get_stock_data('SBUX')\n",
    "yelp = get_stock_data('NKE')"
   ]
  },
  {
   "cell_type": "code",
   "execution_count": null,
   "metadata": {},
   "outputs": [],
   "source": [
    "def get_stock_data(acronym):\n",
    "    df = yf.download(acronym,'2012-12-15','2020-05-26', interval='1d') \n",
    "    return df\n",
    "\n",
    "def prepare_data(df):\n",
    "    dates = np.array(df.Date)\n",
    "    df = df['Open'].values\n",
    "    return dates, df"
   ]
  },
  {
   "cell_type": "code",
   "execution_count": 7,
   "metadata": {},
   "outputs": [],
   "source": [
    "\n",
    "netflix = netflix['Open'].values\n",
    "amazon = amazon['Open'].values\n",
    "nike = nike['Open'].values\n",
    "starbucks = starbucks['Open'].values\n",
    "yelp = yelp['Open'].values"
   ]
  },
  {
   "cell_type": "code",
   "execution_count": 8,
   "metadata": {},
   "outputs": [],
   "source": [
    "training_data_len = math.ceil(len(tesla)*0.8)\n",
    "tesla = tesla.reshape(-1,1)"
   ]
  },
  {
   "cell_type": "code",
   "execution_count": null,
   "metadata": {},
   "outputs": [],
   "source": [
    "def splitting_and_scaling():"
   ]
  },
  {
   "cell_type": "code",
   "execution_count": 9,
   "metadata": {},
   "outputs": [],
   "source": [
    "dates_training = dates[:training_data_len]\n",
    "dates_validation = dates[training_data_len:]"
   ]
  },
  {
   "cell_type": "code",
   "execution_count": 10,
   "metadata": {},
   "outputs": [],
   "source": [
    "#Scale the data\n",
    "scaler = MinMaxScaler(feature_range=(0,1))\n",
    "scaled_data = scaler.fit_transform(tesla)"
   ]
  },
  {
   "cell_type": "code",
   "execution_count": 11,
   "metadata": {},
   "outputs": [
    {
     "name": "stdout",
     "output_type": "stream",
     "text": [
      "[array([8.75911038e-04, 8.64683277e-04, 1.41493354e-03, 1.96518810e-03,\n",
      "       1.69567470e-03, 1.05558521e-03, 7.18696676e-04, 1.07804501e-03,\n",
      "       5.61482313e-04, 4.26727758e-04, 0.00000000e+00, 2.24592925e-03,\n",
      "       2.44806323e-03, 2.02133547e-03, 2.02133547e-03, 1.68444694e-03,\n",
      "       1.13419239e-03, 9.76978026e-04, 1.16788424e-03, 8.98392263e-05,\n",
      "       1.23526794e-04, 9.54518219e-04, 1.30263880e-03, 1.95396034e-03,\n",
      "       1.75182636e-03, 2.26838906e-03, 3.36889388e-03, 4.49185851e-03,\n",
      "       4.33464414e-03, 5.72711788e-03, 5.44637673e-03, 5.46883653e-03,\n",
      "       5.80572506e-03, 6.06401070e-03, 5.61482313e-03, 5.81695711e-03,\n",
      "       6.95114950e-03, 7.24312270e-03, 5.59236333e-03, 6.12015807e-03,\n",
      "       5.95171166e-03, 6.33351981e-03, 6.17630545e-03, 4.89612646e-03,\n",
      "       7.07467629e-03, 3.91914843e-03, 3.05446516e-03, 3.53734029e-03,\n",
      "       1.63952733e-03, 1.58337995e-03, 3.24536709e-03, 2.24592925e-03,\n",
      "       1.98764790e-03, 3.36889388e-03, 4.50308627e-03, 5.31162217e-03,\n",
      "       5.68220255e-03, 6.59180116e-03, 6.62549301e-03, 6.73778776e-03])]\n",
      "[0.0066254930105321755]\n",
      "\n"
     ]
    }
   ],
   "source": [
    "#create the training dataset\n",
    "#create the scaled training dataset\n",
    "train_data = scaled_data[:training_data_len,:]\n",
    "\n",
    "#split the data into X_train and y_train dataset\n",
    "X_train = []\n",
    "y_train = []\n",
    "\n",
    "for i in range(60, len(train_data)):\n",
    "    X_train.append(train_data[i-60:i,0])\n",
    "    y_train.append(train_data[i,0])\n"
   ]
  },
  {
   "cell_type": "code",
   "execution_count": 12,
   "metadata": {},
   "outputs": [],
   "source": [
    "#Convert the x_train and y_train to numpy arrays"
   ]
  },
  {
   "cell_type": "code",
   "execution_count": 13,
   "metadata": {},
   "outputs": [],
   "source": [
    "X_train, y_train = np.array(X_train), np.array(y_train)"
   ]
  },
  {
   "cell_type": "code",
   "execution_count": 14,
   "metadata": {},
   "outputs": [],
   "source": [
    "#Reshape the data\n",
    "X_train = np.reshape(X_train, (X_train.shape[0], X_train.shape[1],1))\n"
   ]
  },
  {
   "cell_type": "code",
   "execution_count": 15,
   "metadata": {},
   "outputs": [],
   "source": [
    "#build the LSTM model\n",
    "model = Sequential()\n",
    "model.add(LSTM(50, return_sequences = True, input_shape = (X_train.shape[1],1)))\n",
    "model.add(LSTM(50, return_sequences = False))\n",
    "model.add(Dense(25))\n",
    "model.add(Dense(1))"
   ]
  },
  {
   "cell_type": "code",
   "execution_count": 16,
   "metadata": {},
   "outputs": [],
   "source": [
    "#Compile the model\n",
    "model.compile(optimizer = 'adam', loss = 'mean_squared_error')"
   ]
  },
  {
   "cell_type": "code",
   "execution_count": 17,
   "metadata": {},
   "outputs": [
    {
     "name": "stdout",
     "output_type": "stream",
     "text": [
      "Epoch 1/1\n",
      "1438/1438 [==============================] - 106s 74ms/step - loss: 6.4564e-04\n"
     ]
    },
    {
     "data": {
      "text/plain": [
       "<keras.callbacks.callbacks.History at 0x20b0b5f8088>"
      ]
     },
     "execution_count": 17,
     "metadata": {},
     "output_type": "execute_result"
    }
   ],
   "source": [
    "#Train the model\n",
    "model.fit(X_train, y_train, batch_size = 1, epochs = 1)"
   ]
  },
  {
   "cell_type": "code",
   "execution_count": 18,
   "metadata": {},
   "outputs": [],
   "source": [
    "#Create the testing dataset\n",
    "#Create a new array containing scaled values from index(training_lenght to end)\n",
    "test_data = scaled_data[training_data_len - 60: , :]\n",
    "X_test = []\n",
    "y_test = tesla[training_data_len: , : ]\n",
    "for i in range(60, len(test_data)):\n",
    "    X_test.append(test_data[i-60:i, 0])"
   ]
  },
  {
   "cell_type": "code",
   "execution_count": 19,
   "metadata": {},
   "outputs": [],
   "source": [
    "#Convert the data to a numpy array\n",
    "X_test = np.array(X_test)"
   ]
  },
  {
   "cell_type": "code",
   "execution_count": 20,
   "metadata": {},
   "outputs": [],
   "source": [
    "#Reshape the data\n",
    "X_test = np.reshape(X_test, (X_test.shape[0], X_test.shape[1], 1))"
   ]
  },
  {
   "cell_type": "code",
   "execution_count": 21,
   "metadata": {},
   "outputs": [],
   "source": [
    "#Get the models predicted price values\n",
    "predictions = model.predict(X_test)\n",
    "predictions = scaler.inverse_transform(predictions)"
   ]
  },
  {
   "cell_type": "code",
   "execution_count": 23,
   "metadata": {},
   "outputs": [
    {
     "data": {
      "text/plain": [
       "44.85965706232424"
      ]
     },
     "execution_count": 23,
     "metadata": {},
     "output_type": "execute_result"
    }
   ],
   "source": [
    "#Get the roor mean squared error (RMSE)\n",
    "rmse= np.sqrt(np.mean(((predictions- y_test)**2)))\n",
    "rmse"
   ]
  },
  {
   "cell_type": "code",
   "execution_count": 25,
   "metadata": {},
   "outputs": [],
   "source": [
    "predictions = [i for lst in predictions for i in lst]"
   ]
  },
  {
   "cell_type": "code",
   "execution_count": 26,
   "metadata": {},
   "outputs": [],
   "source": [
    "tests = [i for lst in tesla[:training_data_len] for i in lst]"
   ]
  },
  {
   "cell_type": "code",
   "execution_count": 27,
   "metadata": {},
   "outputs": [],
   "source": [
    "validation = [i for lst in tesla[training_data_len:] for i in lst]"
   ]
  },
  {
   "cell_type": "code",
   "execution_count": 35,
   "metadata": {
    "scrolled": false
   },
   "outputs": [
    {
     "name": "stderr",
     "output_type": "stream",
     "text": [
      "C:\\Users\\usuario\\Anaconda3\\lib\\site-packages\\ipykernel_launcher.py:5: FutureWarning: Sorting because non-concatenation axis is not aligned. A future version\n",
      "of pandas will change to not sort by default.\n",
      "\n",
      "To accept the future behavior, pass 'sort=False'.\n",
      "\n",
      "To retain the current behavior and silence the warning, pass 'sort=True'.\n",
      "\n",
      "  \"\"\"\n"
     ]
    },
    {
     "data": {
      "text/html": [
       "<div>\n",
       "<style scoped>\n",
       "    .dataframe tbody tr th:only-of-type {\n",
       "        vertical-align: middle;\n",
       "    }\n",
       "\n",
       "    .dataframe tbody tr th {\n",
       "        vertical-align: top;\n",
       "    }\n",
       "\n",
       "    .dataframe thead th {\n",
       "        text-align: right;\n",
       "    }\n",
       "</style>\n",
       "<table border=\"1\" class=\"dataframe\">\n",
       "  <thead>\n",
       "    <tr style=\"text-align: right;\">\n",
       "      <th></th>\n",
       "      <th>Prediction</th>\n",
       "      <th>Training</th>\n",
       "      <th>Validation</th>\n",
       "    </tr>\n",
       "    <tr>\n",
       "      <th>Date</th>\n",
       "      <th></th>\n",
       "      <th></th>\n",
       "      <th></th>\n",
       "    </tr>\n",
       "  </thead>\n",
       "  <tbody>\n",
       "    <tr>\n",
       "      <td>2012-12-14</td>\n",
       "      <td>NaN</td>\n",
       "      <td>33.779999</td>\n",
       "      <td>NaN</td>\n",
       "    </tr>\n",
       "    <tr>\n",
       "      <td>2012-12-17</td>\n",
       "      <td>NaN</td>\n",
       "      <td>33.770000</td>\n",
       "      <td>NaN</td>\n",
       "    </tr>\n",
       "    <tr>\n",
       "      <td>2012-12-18</td>\n",
       "      <td>NaN</td>\n",
       "      <td>34.259998</td>\n",
       "      <td>NaN</td>\n",
       "    </tr>\n",
       "    <tr>\n",
       "      <td>2012-12-19</td>\n",
       "      <td>NaN</td>\n",
       "      <td>34.750000</td>\n",
       "      <td>NaN</td>\n",
       "    </tr>\n",
       "    <tr>\n",
       "      <td>2012-12-20</td>\n",
       "      <td>NaN</td>\n",
       "      <td>34.509998</td>\n",
       "      <td>NaN</td>\n",
       "    </tr>\n",
       "  </tbody>\n",
       "</table>\n",
       "</div>"
      ],
      "text/plain": [
       "            Prediction   Training  Validation\n",
       "Date                                         \n",
       "2012-12-14         NaN  33.779999         NaN\n",
       "2012-12-17         NaN  33.770000         NaN\n",
       "2012-12-18         NaN  34.259998         NaN\n",
       "2012-12-19         NaN  34.750000         NaN\n",
       "2012-12-20         NaN  34.509998         NaN"
      ]
     },
     "execution_count": 35,
     "metadata": {},
     "output_type": "execute_result"
    }
   ],
   "source": [
    "df_t = pd.DataFrame({'Date': dates_training, 'Training':tests})\n",
    "df_t.set_index('Date', inplace=True)\n",
    "df_vp = pd.DataFrame({'Date':dates_validation, 'Validation':validation, 'Prediction':predictions})\n",
    "df_vp.set_index('Date', inplace=True)\n",
    "merged_shit = pd.concat([df_t, df_vp])\n",
    "merged_shit.head()"
   ]
  },
  {
   "cell_type": "code",
   "execution_count": 44,
   "metadata": {},
   "outputs": [
    {
     "data": {
      "image/png": "[encoded data removed]",
      "text/plain": [
       "<Figure size 1152x576 with 1 Axes>"
      ]
     },
     "metadata": {
      "needs_background": "light"
     },
     "output_type": "display_data"
    }
   ],
   "source": [
    "plt.figure(figsize=(16,8))\n",
    "plt.plot(merged_shit.Training, linewidth=2)\n",
    "plt.plot(merged_shit.Validation, linewidth=2)\n",
    "plt.plot(merged_shit.Prediction, linewidth=2)\n",
    "plt.title('LSTM Tesla stock prediction')\n",
    "plt.xlabel('Date', fontsize = 20)\n",
    "plt.ylabel('Open Price USD', fontsize = 20)\n",
    "plt.legend(['Train', 'Val', 'Predictions'],fontsize = 20)\n",
    "plt.show()\n",
    "merged_shit = merged_shit[['Prediction', 'Training', 'Validation']].apply(lambda x:(round(x,2)))\n",
    "merged_shit.to_csv('../02 CSV_files/predictions/tesla_predictions.csv')\n"
   ]
  }
 ],
 "metadata": {
  "kernelspec": {
   "display_name": "Python 3",
   "language": "python",
   "name": "python3"
  },
  "language_info": {
   "codemirror_mode": {
    "name": "ipython",
    "version": 3
   },
   "file_extension": ".py",
   "mimetype": "text/x-python",
   "name": "python",
   "nbconvert_exporter": "python",
   "pygments_lexer": "ipython3",
   "version": "3.7.4"
  }
 },
 "nbformat": 4,
 "nbformat_minor": 2
}
