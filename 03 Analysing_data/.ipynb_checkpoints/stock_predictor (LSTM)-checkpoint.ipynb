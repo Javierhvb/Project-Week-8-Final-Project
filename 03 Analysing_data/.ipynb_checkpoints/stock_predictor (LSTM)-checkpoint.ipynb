{
 "cells": [
  {
   "cell_type": "code",
   "execution_count": 15,
   "metadata": {},
   "outputs": [
    {
     "name": "stderr",
     "output_type": "stream",
     "text": [
      "Using TensorFlow backend.\n"
     ]
    }
   ],
   "source": [
    "import yfinance as yf\n",
    "import numpy as np\n",
    "import matplotlib.pyplot as plt\n",
    "import pandas as pd\n",
    "import datetime\n",
    "from sklearn.preprocessing import MinMaxScaler\n",
    "from keras.models import Sequential\n",
    "from keras.layers import Dense\n",
    "from keras.layers import LSTM\n",
    "from keras.layers import Dropout"
   ]
  },
  {
   "cell_type": "code",
   "execution_count": 2,
   "metadata": {},
   "outputs": [],
   "source": [
    "def get_stock_data(acronym):\n",
    "    df = yf.download(acronym,'2012-12-15','2020-05-26', interval='1d') \n",
    "    return df"
   ]
  },
  {
   "cell_type": "code",
   "execution_count": 3,
   "metadata": {},
   "outputs": [
    {
     "name": "stdout",
     "output_type": "stream",
     "text": [
      "[*********************100%***********************]  1 of 1 completed\n"
     ]
    }
   ],
   "source": [
    "dataset = get_stock_data('TSLA')"
   ]
  },
  {
   "cell_type": "code",
   "execution_count": 20,
   "metadata": {},
   "outputs": [
    {
     "data": {
      "text/html": [
       "<div>\n",
       "<style scoped>\n",
       "    .dataframe tbody tr th:only-of-type {\n",
       "        vertical-align: middle;\n",
       "    }\n",
       "\n",
       "    .dataframe tbody tr th {\n",
       "        vertical-align: top;\n",
       "    }\n",
       "\n",
       "    .dataframe thead th {\n",
       "        text-align: right;\n",
       "    }\n",
       "</style>\n",
       "<table border=\"1\" class=\"dataframe\">\n",
       "  <thead>\n",
       "    <tr style=\"text-align: right;\">\n",
       "      <th></th>\n",
       "      <th>Open</th>\n",
       "      <th>High</th>\n",
       "      <th>Low</th>\n",
       "      <th>Close</th>\n",
       "      <th>Adj Close</th>\n",
       "      <th>Volume</th>\n",
       "    </tr>\n",
       "    <tr>\n",
       "      <th>Date</th>\n",
       "      <th></th>\n",
       "      <th></th>\n",
       "      <th></th>\n",
       "      <th></th>\n",
       "      <th></th>\n",
       "      <th></th>\n",
       "    </tr>\n",
       "  </thead>\n",
       "  <tbody>\n",
       "    <tr>\n",
       "      <td>2012-12-14</td>\n",
       "      <td>NaN</td>\n",
       "      <td>NaN</td>\n",
       "      <td>NaN</td>\n",
       "      <td>NaN</td>\n",
       "      <td>NaN</td>\n",
       "      <td>NaN</td>\n",
       "    </tr>\n",
       "    <tr>\n",
       "      <td>2012-12-17</td>\n",
       "      <td>NaN</td>\n",
       "      <td>NaN</td>\n",
       "      <td>NaN</td>\n",
       "      <td>NaN</td>\n",
       "      <td>NaN</td>\n",
       "      <td>NaN</td>\n",
       "    </tr>\n",
       "    <tr>\n",
       "      <td>2012-12-18</td>\n",
       "      <td>NaN</td>\n",
       "      <td>NaN</td>\n",
       "      <td>NaN</td>\n",
       "      <td>NaN</td>\n",
       "      <td>NaN</td>\n",
       "      <td>NaN</td>\n",
       "    </tr>\n",
       "    <tr>\n",
       "      <td>2012-12-19</td>\n",
       "      <td>NaN</td>\n",
       "      <td>NaN</td>\n",
       "      <td>NaN</td>\n",
       "      <td>NaN</td>\n",
       "      <td>NaN</td>\n",
       "      <td>NaN</td>\n",
       "    </tr>\n",
       "    <tr>\n",
       "      <td>2012-12-20</td>\n",
       "      <td>NaN</td>\n",
       "      <td>NaN</td>\n",
       "      <td>NaN</td>\n",
       "      <td>NaN</td>\n",
       "      <td>NaN</td>\n",
       "      <td>NaN</td>\n",
       "    </tr>\n",
       "    <tr>\n",
       "      <td>2012-12-21</td>\n",
       "      <td>NaN</td>\n",
       "      <td>NaN</td>\n",
       "      <td>NaN</td>\n",
       "      <td>NaN</td>\n",
       "      <td>NaN</td>\n",
       "      <td>NaN</td>\n",
       "    </tr>\n",
       "    <tr>\n",
       "      <td>2012-12-24</td>\n",
       "      <td>34.092856</td>\n",
       "      <td>34.648571</td>\n",
       "      <td>33.900000</td>\n",
       "      <td>34.302858</td>\n",
       "      <td>34.302858</td>\n",
       "      <td>1.070000e+06</td>\n",
       "    </tr>\n",
       "    <tr>\n",
       "      <td>2012-12-26</td>\n",
       "      <td>34.118571</td>\n",
       "      <td>34.662857</td>\n",
       "      <td>33.887143</td>\n",
       "      <td>34.271429</td>\n",
       "      <td>34.271429</td>\n",
       "      <td>1.009771e+06</td>\n",
       "    </tr>\n",
       "    <tr>\n",
       "      <td>2012-12-27</td>\n",
       "      <td>34.079999</td>\n",
       "      <td>34.578571</td>\n",
       "      <td>33.780000</td>\n",
       "      <td>34.170000</td>\n",
       "      <td>34.170000</td>\n",
       "      <td>9.720857e+05</td>\n",
       "    </tr>\n",
       "    <tr>\n",
       "      <td>2012-12-28</td>\n",
       "      <td>33.954285</td>\n",
       "      <td>34.375714</td>\n",
       "      <td>33.602857</td>\n",
       "      <td>33.974286</td>\n",
       "      <td>33.974286</td>\n",
       "      <td>8.092571e+05</td>\n",
       "    </tr>\n",
       "    <tr>\n",
       "      <td>2012-12-31</td>\n",
       "      <td>33.704285</td>\n",
       "      <td>34.191429</td>\n",
       "      <td>33.385714</td>\n",
       "      <td>33.868571</td>\n",
       "      <td>33.868571</td>\n",
       "      <td>7.087000e+05</td>\n",
       "    </tr>\n",
       "    <tr>\n",
       "      <td>2013-01-02</td>\n",
       "      <td>33.774285</td>\n",
       "      <td>34.285714</td>\n",
       "      <td>33.480000</td>\n",
       "      <td>34.001428</td>\n",
       "      <td>34.001428</td>\n",
       "      <td>7.477857e+05</td>\n",
       "    </tr>\n",
       "    <tr>\n",
       "      <td>2013-01-03</td>\n",
       "      <td>33.951429</td>\n",
       "      <td>34.468572</td>\n",
       "      <td>33.647143</td>\n",
       "      <td>34.111428</td>\n",
       "      <td>34.111428</td>\n",
       "      <td>6.405857e+05</td>\n",
       "    </tr>\n",
       "    <tr>\n",
       "      <td>2013-01-04</td>\n",
       "      <td>34.117143</td>\n",
       "      <td>34.532858</td>\n",
       "      <td>33.700000</td>\n",
       "      <td>34.128572</td>\n",
       "      <td>34.128572</td>\n",
       "      <td>6.831857e+05</td>\n",
       "    </tr>\n",
       "    <tr>\n",
       "      <td>2013-01-07</td>\n",
       "      <td>34.237143</td>\n",
       "      <td>34.575715</td>\n",
       "      <td>33.757143</td>\n",
       "      <td>34.235715</td>\n",
       "      <td>34.235715</td>\n",
       "      <td>6.604143e+05</td>\n",
       "    </tr>\n",
       "    <tr>\n",
       "      <td>2013-01-08</td>\n",
       "      <td>34.380000</td>\n",
       "      <td>34.660000</td>\n",
       "      <td>33.772857</td>\n",
       "      <td>34.234286</td>\n",
       "      <td>34.234286</td>\n",
       "      <td>7.636857e+05</td>\n",
       "    </tr>\n",
       "    <tr>\n",
       "      <td>2013-01-09</td>\n",
       "      <td>34.470000</td>\n",
       "      <td>34.737143</td>\n",
       "      <td>33.827143</td>\n",
       "      <td>34.294286</td>\n",
       "      <td>34.294286</td>\n",
       "      <td>8.042429e+05</td>\n",
       "    </tr>\n",
       "    <tr>\n",
       "      <td>2013-01-10</td>\n",
       "      <td>34.594285</td>\n",
       "      <td>34.740000</td>\n",
       "      <td>33.881429</td>\n",
       "      <td>34.245714</td>\n",
       "      <td>34.245714</td>\n",
       "      <td>8.510429e+05</td>\n",
       "    </tr>\n",
       "    <tr>\n",
       "      <td>2013-01-11</td>\n",
       "      <td>34.457142</td>\n",
       "      <td>34.538571</td>\n",
       "      <td>33.510001</td>\n",
       "      <td>33.895714</td>\n",
       "      <td>33.895714</td>\n",
       "      <td>9.036714e+05</td>\n",
       "    </tr>\n",
       "    <tr>\n",
       "      <td>2013-01-14</td>\n",
       "      <td>34.157143</td>\n",
       "      <td>34.242857</td>\n",
       "      <td>33.238572</td>\n",
       "      <td>33.680000</td>\n",
       "      <td>33.680000</td>\n",
       "      <td>9.298286e+05</td>\n",
       "    </tr>\n",
       "  </tbody>\n",
       "</table>\n",
       "</div>"
      ],
      "text/plain": [
       "                 Open       High        Low      Close  Adj Close  \\\n",
       "Date                                                                \n",
       "2012-12-14        NaN        NaN        NaN        NaN        NaN   \n",
       "2012-12-17        NaN        NaN        NaN        NaN        NaN   \n",
       "2012-12-18        NaN        NaN        NaN        NaN        NaN   \n",
       "2012-12-19        NaN        NaN        NaN        NaN        NaN   \n",
       "2012-12-20        NaN        NaN        NaN        NaN        NaN   \n",
       "2012-12-21        NaN        NaN        NaN        NaN        NaN   \n",
       "2012-12-24  34.092856  34.648571  33.900000  34.302858  34.302858   \n",
       "2012-12-26  34.118571  34.662857  33.887143  34.271429  34.271429   \n",
       "2012-12-27  34.079999  34.578571  33.780000  34.170000  34.170000   \n",
       "2012-12-28  33.954285  34.375714  33.602857  33.974286  33.974286   \n",
       "2012-12-31  33.704285  34.191429  33.385714  33.868571  33.868571   \n",
       "2013-01-02  33.774285  34.285714  33.480000  34.001428  34.001428   \n",
       "2013-01-03  33.951429  34.468572  33.647143  34.111428  34.111428   \n",
       "2013-01-04  34.117143  34.532858  33.700000  34.128572  34.128572   \n",
       "2013-01-07  34.237143  34.575715  33.757143  34.235715  34.235715   \n",
       "2013-01-08  34.380000  34.660000  33.772857  34.234286  34.234286   \n",
       "2013-01-09  34.470000  34.737143  33.827143  34.294286  34.294286   \n",
       "2013-01-10  34.594285  34.740000  33.881429  34.245714  34.245714   \n",
       "2013-01-11  34.457142  34.538571  33.510001  33.895714  33.895714   \n",
       "2013-01-14  34.157143  34.242857  33.238572  33.680000  33.680000   \n",
       "\n",
       "                  Volume  \n",
       "Date                      \n",
       "2012-12-14           NaN  \n",
       "2012-12-17           NaN  \n",
       "2012-12-18           NaN  \n",
       "2012-12-19           NaN  \n",
       "2012-12-20           NaN  \n",
       "2012-12-21           NaN  \n",
       "2012-12-24  1.070000e+06  \n",
       "2012-12-26  1.009771e+06  \n",
       "2012-12-27  9.720857e+05  \n",
       "2012-12-28  8.092571e+05  \n",
       "2012-12-31  7.087000e+05  \n",
       "2013-01-02  7.477857e+05  \n",
       "2013-01-03  6.405857e+05  \n",
       "2013-01-04  6.831857e+05  \n",
       "2013-01-07  6.604143e+05  \n",
       "2013-01-08  7.636857e+05  \n",
       "2013-01-09  8.042429e+05  \n",
       "2013-01-10  8.510429e+05  \n",
       "2013-01-11  9.036714e+05  \n",
       "2013-01-14  9.298286e+05  "
      ]
     },
     "execution_count": 20,
     "metadata": {},
     "output_type": "execute_result"
    }
   ],
   "source": [
    "dataset.rolling(7).mean().head(20)"
   ]
  },
  {
   "cell_type": "code",
   "execution_count": 28,
   "metadata": {},
   "outputs": [],
   "source": [
    "training_set = dataset['Open']\n",
    "training_set = pd.DataFrame(training_set)"
   ]
  },
  {
   "cell_type": "code",
   "execution_count": 22,
   "metadata": {},
   "outputs": [],
   "source": [
    "#Scaling the training set\n",
    "sc = MinMaxScaler(feature_range = (0,1))\n",
    "scaled_data = sc.fit_transform(training_set)"
   ]
  },
  {
   "cell_type": "code",
   "execution_count": 23,
   "metadata": {},
   "outputs": [],
   "source": [
    "X_train = []\n",
    "y_train = []\n",
    "train_length = int(len(training_set)*0.85)\n",
    "\n",
    "for i in range(60,train_length):\n",
    "    X_train.append(scaled_data[i-60:i,0])\n",
    "    y_train.append(scaled_data[i,0])\n",
    "\n",
    "X_train, y_train = np.array(X_train), np.array(y_train)\n",
    "\n",
    "X_train = np.reshape(X_train, (X_train.shape[0],X_train.shape[1],1))"
   ]
  },
  {
   "cell_type": "code",
   "execution_count": 24,
   "metadata": {},
   "outputs": [],
   "source": [
    "regressor = Sequential()"
   ]
  },
  {
   "cell_type": "code",
   "execution_count": 25,
   "metadata": {},
   "outputs": [],
   "source": [
    "regressor.add(LSTM(units = 50, return_sequences = True, input_shape = (X_train.shape[1], 1)))\n",
    "regressor.add(Dropout(0.2))\n",
    "\n",
    "regressor.add(LSTM(units = 50, return_sequences = True))\n",
    "regressor.add(Dropout(0.2))\n",
    "\n",
    "regressor.add(LSTM(units = 50, return_sequences = True))\n",
    "regressor.add(Dropout(0.2))\n",
    "\n",
    "regressor.add(LSTM(units = 50))\n",
    "regressor.add(Dropout(0.2))\n",
    "\n",
    "regressor.add(Dense(units = 1))\n",
    "              \n",
    "              "
   ]
  },
  {
   "cell_type": "code",
   "execution_count": 27,
   "metadata": {},
   "outputs": [
    {
     "name": "stdout",
     "output_type": "stream",
     "text": [
      "Epoch 1/10\n",
      "1531/1531 [==============================] - 32s 21ms/step - loss: 0.0015\n",
      "Epoch 2/10\n",
      "1531/1531 [==============================] - 28s 18ms/step - loss: 0.0011\n",
      "Epoch 3/10\n",
      "1531/1531 [==============================] - 29s 19ms/step - loss: 0.0011\n",
      "Epoch 4/10\n",
      "1531/1531 [==============================] - 29s 19ms/step - loss: 0.0010\n",
      "Epoch 5/10\n",
      "1531/1531 [==============================] - 29s 19ms/step - loss: 9.1789e-04\n",
      "Epoch 6/10\n",
      "1531/1531 [==============================] - 32s 21ms/step - loss: 8.0491e-04\n",
      "Epoch 7/10\n",
      "1531/1531 [==============================] - 35s 23ms/step - loss: 8.0012e-04\n",
      "Epoch 8/10\n",
      "1531/1531 [==============================] - 34s 22ms/step - loss: 7.6337e-04\n",
      "Epoch 9/10\n",
      "1531/1531 [==============================] - 28s 19ms/step - loss: 7.0802e-04\n",
      "Epoch 10/10\n",
      "1531/1531 [==============================] - 28s 18ms/step - loss: 6.3479e-04\n"
     ]
    },
    {
     "data": {
      "text/plain": [
       "<keras.callbacks.callbacks.History at 0x1f944b43d88>"
      ]
     },
     "execution_count": 27,
     "metadata": {},
     "output_type": "execute_result"
    }
   ],
   "source": [
    "regressor.compile(optimizer = 'adam', loss = 'mean_squared_error')\n",
    "\n",
    "regressor.fit(X_train, y_train, epochs = 10, batch_size = 32)"
   ]
  },
  {
   "cell_type": "code",
   "execution_count": 36,
   "metadata": {},
   "outputs": [],
   "source": [
    "inputs = dataset[len(dataset)-len(dataset[train_length:]) - 60:].values\n",
    "inputs = inputs.reshape(-1,1)\n",
    "inputs = sc.transform(inputs)\n",
    "X_test = []\n",
    "y_test = []\n",
    "for i in range(60,len(dataset[train_length:]) + 60):\n",
    "    X_test.append(inputs[i-60:i,0])\n",
    "    y_test.append(inputs[i,0])\n",
    "X_test = np.array(X_test)\n",
    "X_test = np.reshape(X_test, (X_test.shape[0],X_test.shape[1], 1))\n",
    "predicted_stock_price = regressor.predict(X_test)\n",
    "predicted_stock_price = sc.inverse_transform(predicted_stock_price)"
   ]
  },
  {
   "cell_type": "code",
   "execution_count": 37,
   "metadata": {},
   "outputs": [],
   "source": [
    "real_stock_price = y_test"
   ]
  },
  {
   "cell_type": "code",
   "execution_count": 38,
   "metadata": {},
   "outputs": [
    {
     "data": {
      "image/png": "[encoded data removed]",
      "text/plain": [
       "<Figure size 432x288 with 1 Axes>"
      ]
     },
     "metadata": {
      "needs_background": "light"
     },
     "output_type": "display_data"
    }
   ],
   "source": [
    "plt.plot(real_stock_price, color = 'red', label = 'Real Tesla Stock Price')\n",
    "plt.plot(predicted_stock_price, color = 'blue', label = 'Predicted Tesla Stock Price')\n",
    "plt.title('Tesla Stock Price Prediction')\n",
    "plt.xlabel('Time')\n",
    "plt.ylabel('Tesla Stock Price')\n",
    "plt.legend()\n",
    "plt.show()"
   ]
  },
  {
   "cell_type": "code",
   "execution_count": null,
   "metadata": {},
   "outputs": [],
   "source": []
  }
 ],
 "metadata": {
  "kernelspec": {
   "display_name": "Python 3",
   "language": "python",
   "name": "python3"
  },
  "language_info": {
   "codemirror_mode": {
    "name": "ipython",
    "version": 3
   },
   "file_extension": ".py",
   "mimetype": "text/x-python",
   "name": "python",
   "nbconvert_exporter": "python",
   "pygments_lexer": "ipython3",
   "version": "3.7.4"
  }
 },
 "nbformat": 4,
 "nbformat_minor": 2
}
