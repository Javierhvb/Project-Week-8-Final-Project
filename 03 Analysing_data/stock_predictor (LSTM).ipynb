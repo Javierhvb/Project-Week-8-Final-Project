{
 "cells": [
  {
   "cell_type": "code",
   "execution_count": 2,
   "metadata": {},
   "outputs": [
    {
     "name": "stderr",
     "output_type": "stream",
     "text": [
      "Using TensorFlow backend.\n"
     ]
    }
   ],
   "source": [
    "import yfinance as yf\n",
    "import numpy as np\n",
    "import matplotlib.pyplot as plt\n",
    "import pandas as pd\n",
    "import datetime as dt\n",
    "from sklearn.preprocessing import MinMaxScaler\n",
    "from keras.models import Sequential\n",
    "from keras.layers import Dense\n",
    "from keras.layers import LSTM\n",
    "from keras.layers import Dropout\n",
    "import math\n",
    "plt.style.use('fivethirtyeight')"
   ]
  },
  {
   "cell_type": "code",
   "execution_count": 3,
   "metadata": {},
   "outputs": [],
   "source": [
    "def get_stock_data(acronym):\n",
    "    df = yf.download(acronym,'2012-12-15','2020-05-26', interval='1d') \n",
    "    return df"
   ]
  },
  {
   "cell_type": "code",
   "execution_count": 4,
   "metadata": {
    "scrolled": true
   },
   "outputs": [
    {
     "name": "stdout",
     "output_type": "stream",
     "text": [
      "[*********************100%***********************]  1 of 1 completed\n",
      "[*********************100%***********************]  1 of 1 completed\n",
      "[*********************100%***********************]  1 of 1 completed\n",
      "[*********************100%***********************]  1 of 1 completed\n",
      "[*********************100%***********************]  1 of 1 completed\n",
      "[*********************100%***********************]  1 of 1 completed\n"
     ]
    }
   ],
   "source": [
    "df = get_stock_data('TSLA')\n",
    "netflix = get_stock_data('NFLX')\n",
    "amazon = get_stock_data('YELP')\n",
    "nike = get_stock_data('AMZN')\n",
    "starbucks = get_stock_data('SBUX')\n",
    "yelp = get_stock_data('NKE')"
   ]
  },
  {
   "cell_type": "code",
   "execution_count": 5,
   "metadata": {},
   "outputs": [],
   "source": [
    "df.reset_index(inplace = True)"
   ]
  },
  {
   "cell_type": "code",
   "execution_count": 6,
   "metadata": {},
   "outputs": [],
   "source": [
    "dates = np.array(df.Date)"
   ]
  },
  {
   "cell_type": "code",
   "execution_count": 9,
   "metadata": {},
   "outputs": [],
   "source": [
    "tesla = df.filter(['Open'])"
   ]
  },
  {
   "cell_type": "code",
   "execution_count": 10,
   "metadata": {},
   "outputs": [],
   "source": [
    "tesla = tesla['Open'].values\n",
    "netflix = netflix['Open'].values\n",
    "amazon = amazon['Open'].values\n",
    "nike = nike['Open'].values\n",
    "starbucks = starbucks['Open'].values\n",
    "yelp = yelp['Open'].values"
   ]
  },
  {
   "cell_type": "code",
   "execution_count": 11,
   "metadata": {},
   "outputs": [],
   "source": [
    "training_data_len = math.ceil(len(tesla)*0.8)\n",
    "tesla = tesla.reshape(-1,1)"
   ]
  },
  {
   "cell_type": "code",
   "execution_count": 12,
   "metadata": {},
   "outputs": [],
   "source": [
    "dates_training = dates[:training_data_len]\n",
    "dates_validation = dates[training_data_len:]"
   ]
  },
  {
   "cell_type": "code",
   "execution_count": 13,
   "metadata": {},
   "outputs": [],
   "source": [
    "#Scale the data\n",
    "scaler = MinMaxScaler(feature_range=(0,1))\n",
    "scaled_data = scaler.fit_transform(tesla)"
   ]
  },
  {
   "cell_type": "code",
   "execution_count": 14,
   "metadata": {},
   "outputs": [
    {
     "name": "stdout",
     "output_type": "stream",
     "text": [
      "[array([8.75911038e-04, 8.64683277e-04, 1.41493354e-03, 1.96518810e-03,\n",
      "       1.69567470e-03, 1.05558521e-03, 7.18696676e-04, 1.07804501e-03,\n",
      "       5.61482313e-04, 4.26727758e-04, 0.00000000e+00, 2.24592925e-03,\n",
      "       2.44806323e-03, 2.02133547e-03, 2.02133547e-03, 1.68444694e-03,\n",
      "       1.13419239e-03, 9.76978026e-04, 1.16788424e-03, 8.98392263e-05,\n",
      "       1.23526794e-04, 9.54518219e-04, 1.30263880e-03, 1.95396034e-03,\n",
      "       1.75182636e-03, 2.26838906e-03, 3.36889388e-03, 4.49185851e-03,\n",
      "       4.33464414e-03, 5.72711788e-03, 5.44637673e-03, 5.46883653e-03,\n",
      "       5.80572506e-03, 6.06401070e-03, 5.61482313e-03, 5.81695711e-03,\n",
      "       6.95114950e-03, 7.24312270e-03, 5.59236333e-03, 6.12015807e-03,\n",
      "       5.95171166e-03, 6.33351981e-03, 6.17630545e-03, 4.89612646e-03,\n",
      "       7.07467629e-03, 3.91914843e-03, 3.05446516e-03, 3.53734029e-03,\n",
      "       1.63952733e-03, 1.58337995e-03, 3.24536709e-03, 2.24592925e-03,\n",
      "       1.98764790e-03, 3.36889388e-03, 4.50308627e-03, 5.31162217e-03,\n",
      "       5.68220255e-03, 6.59180116e-03, 6.62549301e-03, 6.73778776e-03])]\n",
      "[0.0066254930105321755]\n",
      "\n"
     ]
    }
   ],
   "source": [
    "#create the training dataset\n",
    "#create the scaled training dataset\n",
    "train_data = scaled_data[:training_data_len,:]\n",
    "\n",
    "#split the data into X_train and y_train dataset\n",
    "X_train = []\n",
    "y_train = []\n",
    "\n",
    "for i in range(60, len(train_data)):\n",
    "    X_train.append(train_data[i-60:i,0])\n",
    "    y_train.append(train_data[i,0])\n",
    "    if i<=60:\n",
    "        print(X_train)\n",
    "        print(y_train)\n",
    "        print()"
   ]
  },
  {
   "cell_type": "code",
   "execution_count": 15,
   "metadata": {},
   "outputs": [],
   "source": [
    "#Convert the x_train and y_train to numpy arrays"
   ]
  },
  {
   "cell_type": "code",
   "execution_count": 16,
   "metadata": {},
   "outputs": [],
   "source": [
    "X_train, y_train = np.array(X_train), np.array(y_train)"
   ]
  },
  {
   "cell_type": "code",
   "execution_count": 17,
   "metadata": {},
   "outputs": [],
   "source": [
    "#Reshape the data\n",
    "X_train = np.reshape(X_train, (X_train.shape[0], X_train.shape[1],1))\n"
   ]
  },
  {
   "cell_type": "code",
   "execution_count": 18,
   "metadata": {},
   "outputs": [],
   "source": [
    "#build the LSTM model\n",
    "model = Sequential()\n",
    "model.add(LSTM(50, return_sequences = True, input_shape = (X_train.shape[1],1)))\n",
    "model.add(LSTM(50, return_sequences = False))\n",
    "model.add(Dense(25))\n",
    "model.add(Dense(1))"
   ]
  },
  {
   "cell_type": "code",
   "execution_count": 19,
   "metadata": {},
   "outputs": [],
   "source": [
    "#Compile the model\n",
    "model.compile(optimizer = 'adam', loss = 'mean_squared_error')"
   ]
  },
  {
   "cell_type": "code",
   "execution_count": 20,
   "metadata": {},
   "outputs": [
    {
     "name": "stdout",
     "output_type": "stream",
     "text": [
      "Epoch 1/1\n",
      "1438/1438 [==============================] - 83s 57ms/step - loss: 6.5346e-04\n"
     ]
    },
    {
     "data": {
      "text/plain": [
       "<keras.callbacks.callbacks.History at 0x2630cf21f08>"
      ]
     },
     "execution_count": 20,
     "metadata": {},
     "output_type": "execute_result"
    }
   ],
   "source": [
    "#Train the model\n",
    "model.fit(X_train, y_train, batch_size = 1, epochs = 1)"
   ]
  },
  {
   "cell_type": "code",
   "execution_count": 21,
   "metadata": {},
   "outputs": [],
   "source": [
    "#Create the testing dataset\n",
    "#Create a new array containing scaled values from index(training_lenght to end)\n",
    "test_data = scaled_data[training_data_len - 60: , :]\n",
    "X_test = []\n",
    "y_test = tesla[training_data_len: , : ]\n",
    "for i in range(60, len(test_data)):\n",
    "    X_test.append(test_data[i-60:i, 0])"
   ]
  },
  {
   "cell_type": "code",
   "execution_count": 22,
   "metadata": {},
   "outputs": [],
   "source": [
    "#Convert the data to a numpy array\n",
    "X_test = np.array(X_test)"
   ]
  },
  {
   "cell_type": "code",
   "execution_count": 23,
   "metadata": {},
   "outputs": [],
   "source": [
    "#Reshape the data\n",
    "X_test = np.reshape(X_test, (X_test.shape[0], X_test.shape[1], 1))"
   ]
  },
  {
   "cell_type": "code",
   "execution_count": 24,
   "metadata": {},
   "outputs": [],
   "source": [
    "#Get the models predicted price values\n",
    "predictions = model.predict(X_test)\n",
    "predictions = scaler.inverse_transform(predictions)"
   ]
  },
  {
   "cell_type": "code",
   "execution_count": 25,
   "metadata": {},
   "outputs": [
    {
     "data": {
      "text/plain": [
       "array([[334.3072 ],\n",
       "       [332.55557],\n",
       "       [332.40982],\n",
       "       [333.26318],\n",
       "       [333.8985 ],\n",
       "       [336.66458],\n",
       "       [339.64404],\n",
       "       [342.366  ],\n",
       "       [346.24683],\n",
       "       [349.03387],\n",
       "       [352.16806],\n",
       "       [354.95932],\n",
       "       [357.2844 ],\n",
       "       [359.65842],\n",
       "       [360.0446 ],\n",
       "       [357.9059 ],\n",
       "       [353.10513],\n",
       "       [346.24585],\n",
       "       [338.0351 ],\n",
       "       [329.75305],\n",
       "       [320.87418],\n",
       "       [315.38632],\n",
       "       [312.78522],\n",
       "       [313.9217 ],\n",
       "       [312.94034],\n",
       "       [311.21365],\n",
       "       [309.2093 ],\n",
       "       [309.29367],\n",
       "       [312.96936],\n",
       "       [317.22488],\n",
       "       [321.12372],\n",
       "       [325.2855 ],\n",
       "       [329.03845],\n",
       "       [331.13245],\n",
       "       [333.30658],\n",
       "       [335.356  ],\n",
       "       [334.11172],\n",
       "       [329.06934],\n",
       "       [321.1912 ],\n",
       "       [311.70602],\n",
       "       [304.0437 ],\n",
       "       [298.13486],\n",
       "       [294.24265],\n",
       "       [292.5836 ],\n",
       "       [292.40906],\n",
       "       [293.61813],\n",
       "       [296.3514 ],\n",
       "       [299.4776 ],\n",
       "       [303.30008],\n",
       "       [306.19437],\n",
       "       [307.4271 ],\n",
       "       [308.21576],\n",
       "       [309.2067 ],\n",
       "       [309.6675 ],\n",
       "       [308.66888],\n",
       "       [307.1779 ],\n",
       "       [305.8573 ],\n",
       "       [304.51724],\n",
       "       [303.02115],\n",
       "       [300.73666],\n",
       "       [298.77542],\n",
       "       [296.52994],\n",
       "       [295.62683],\n",
       "       [297.65204],\n",
       "       [299.4513 ],\n",
       "       [299.84802],\n",
       "       [297.4831 ],\n",
       "       [293.32886],\n",
       "       [289.06906],\n",
       "       [285.06555],\n",
       "       [282.53815],\n",
       "       [281.47836],\n",
       "       [281.02475],\n",
       "       [282.01715],\n",
       "       [282.54175],\n",
       "       [281.85986],\n",
       "       [279.60657],\n",
       "       [277.0978 ],\n",
       "       [275.12497],\n",
       "       [273.6843 ],\n",
       "       [271.15106],\n",
       "       [268.97104],\n",
       "       [267.77118],\n",
       "       [268.26346],\n",
       "       [269.76746],\n",
       "       [272.09534],\n",
       "       [275.24667],\n",
       "       [278.29337],\n",
       "       [277.77417],\n",
       "       [276.45126],\n",
       "       [275.78894],\n",
       "       [274.79916],\n",
       "       [274.39285],\n",
       "       [273.30173],\n",
       "       [272.23795],\n",
       "       [271.1234 ],\n",
       "       [269.77875],\n",
       "       [269.58612],\n",
       "       [269.58444],\n",
       "       [269.426  ],\n",
       "       [268.13608],\n",
       "       [266.88095],\n",
       "       [264.72513],\n",
       "       [261.3645 ],\n",
       "       [256.5367 ],\n",
       "       [252.3207 ],\n",
       "       [248.5791 ],\n",
       "       [246.38593],\n",
       "       [245.09886],\n",
       "       [245.21375],\n",
       "       [246.8752 ],\n",
       "       [247.96144],\n",
       "       [248.03091],\n",
       "       [247.28581],\n",
       "       [245.27469],\n",
       "       [242.53288],\n",
       "       [239.75447],\n",
       "       [237.32828],\n",
       "       [234.50249],\n",
       "       [229.56688],\n",
       "       [223.5754 ],\n",
       "       [217.94804],\n",
       "       [212.6738 ],\n",
       "       [208.91226],\n",
       "       [205.42902],\n",
       "       [202.07666],\n",
       "       [199.41965],\n",
       "       [197.04921],\n",
       "       [195.18648],\n",
       "       [193.32011],\n",
       "       [193.73015],\n",
       "       [195.9658 ],\n",
       "       [198.96136],\n",
       "       [202.59525],\n",
       "       [207.14156],\n",
       "       [212.03024],\n",
       "       [214.9781 ],\n",
       "       [216.60872],\n",
       "       [217.80016],\n",
       "       [220.1442 ],\n",
       "       [222.34476],\n",
       "       [223.9284 ],\n",
       "       [224.16258],\n",
       "       [224.47272],\n",
       "       [224.89777],\n",
       "       [224.83849],\n",
       "       [224.42772],\n",
       "       [224.06203],\n",
       "       [224.85788],\n",
       "       [226.00697],\n",
       "       [228.45515],\n",
       "       [230.70119],\n",
       "       [232.16762],\n",
       "       [232.76538],\n",
       "       [233.44337],\n",
       "       [234.54564],\n",
       "       [235.9223 ],\n",
       "       [238.25645],\n",
       "       [240.94838],\n",
       "       [244.2524 ],\n",
       "       [247.37436],\n",
       "       [250.07553],\n",
       "       [252.56921],\n",
       "       [254.37442],\n",
       "       [255.87695],\n",
       "       [253.91685],\n",
       "       [249.62898],\n",
       "       [244.68243],\n",
       "       [240.71432],\n",
       "       [238.97911],\n",
       "       [238.61385],\n",
       "       [237.69632],\n",
       "       [236.4273 ],\n",
       "       [235.41867],\n",
       "       [234.0458 ],\n",
       "       [233.6209 ],\n",
       "       [233.94406],\n",
       "       [234.26903],\n",
       "       [234.06725],\n",
       "       [233.90558],\n",
       "       [232.55164],\n",
       "       [230.25381],\n",
       "       [228.6452 ],\n",
       "       [228.00192],\n",
       "       [227.28896],\n",
       "       [226.73366],\n",
       "       [225.99606],\n",
       "       [224.50528],\n",
       "       [223.06343],\n",
       "       [221.58432],\n",
       "       [220.90373],\n",
       "       [221.93008],\n",
       "       [223.12762],\n",
       "       [224.60597],\n",
       "       [225.51825],\n",
       "       [226.5715 ],\n",
       "       [227.88568],\n",
       "       [229.25801],\n",
       "       [231.26299],\n",
       "       [234.56645],\n",
       "       [238.03342],\n",
       "       [241.02428],\n",
       "       [242.94525],\n",
       "       [244.34663],\n",
       "       [245.39456],\n",
       "       [246.16716],\n",
       "       [245.90562],\n",
       "       [245.3144 ],\n",
       "       [242.58453],\n",
       "       [239.82486],\n",
       "       [238.76709],\n",
       "       [238.83612],\n",
       "       [239.32889],\n",
       "       [240.211  ],\n",
       "       [239.82538],\n",
       "       [238.80984],\n",
       "       [237.37628],\n",
       "       [236.6353 ],\n",
       "       [237.005  ],\n",
       "       [238.3932 ],\n",
       "       [240.37262],\n",
       "       [242.50606],\n",
       "       [245.62633],\n",
       "       [248.8192 ],\n",
       "       [252.25706],\n",
       "       [255.15105],\n",
       "       [257.09167],\n",
       "       [257.78308],\n",
       "       [257.73862],\n",
       "       [262.61777],\n",
       "       [269.33252],\n",
       "       [279.8403 ],\n",
       "       [290.01196],\n",
       "       [297.8203 ],\n",
       "       [303.35574],\n",
       "       [307.32816],\n",
       "       [309.72052],\n",
       "       [311.54037],\n",
       "       [312.57672],\n",
       "       [314.44202],\n",
       "       [317.12692],\n",
       "       [321.06067],\n",
       "       [325.48102],\n",
       "       [330.5925 ],\n",
       "       [334.24335],\n",
       "       [337.2406 ],\n",
       "       [339.76123],\n",
       "       [341.53552],\n",
       "       [343.72888],\n",
       "       [345.12305],\n",
       "       [344.11023],\n",
       "       [342.5408 ],\n",
       "       [339.72412],\n",
       "       [336.14078],\n",
       "       [332.65088],\n",
       "       [329.47284],\n",
       "       [327.31125],\n",
       "       [326.63058],\n",
       "       [326.2173 ],\n",
       "       [326.31696],\n",
       "       [326.89014],\n",
       "       [328.0778 ],\n",
       "       [330.942  ],\n",
       "       [334.6765 ],\n",
       "       [339.1573 ],\n",
       "       [343.61356],\n",
       "       [349.55298],\n",
       "       [355.6316 ],\n",
       "       [363.10245],\n",
       "       [371.90738],\n",
       "       [380.3625 ],\n",
       "       [388.32   ],\n",
       "       [396.12473],\n",
       "       [403.64066],\n",
       "       [409.09183],\n",
       "       [409.5695 ],\n",
       "       [409.99338],\n",
       "       [412.28363],\n",
       "       [415.13437],\n",
       "       [420.6446 ],\n",
       "       [428.32327],\n",
       "       [439.16147],\n",
       "       [447.99695],\n",
       "       [456.21378],\n",
       "       [469.75742],\n",
       "       [481.93674],\n",
       "       [486.8468 ],\n",
       "       [489.33112],\n",
       "       [493.12338],\n",
       "       [502.5926 ],\n",
       "       [512.3598 ],\n",
       "       [521.8292 ],\n",
       "       [525.7397 ],\n",
       "       [530.0302 ],\n",
       "       [534.65826],\n",
       "       [546.6641 ],\n",
       "       [561.4708 ],\n",
       "       [580.37854],\n",
       "       [628.8914 ],\n",
       "       [675.5259 ],\n",
       "       [696.3729 ],\n",
       "       [706.41675],\n",
       "       [719.1128 ],\n",
       "       [725.5747 ],\n",
       "       [729.30023],\n",
       "       [725.2952 ],\n",
       "       [724.8302 ],\n",
       "       [733.6899 ],\n",
       "       [757.74744],\n",
       "       [783.3795 ],\n",
       "       [805.29614],\n",
       "       [811.4802 ],\n",
       "       [810.87476],\n",
       "       [796.38715],\n",
       "       [769.70337],\n",
       "       [726.381  ],\n",
       "       [693.97156],\n",
       "       [684.65625],\n",
       "       [681.8225 ],\n",
       "       [677.56006],\n",
       "       [668.91626],\n",
       "       [647.6013 ],\n",
       "       [631.67786],\n",
       "       [617.75183],\n",
       "       [598.86505],\n",
       "       [582.88086],\n",
       "       [553.3301 ],\n",
       "       [518.3119 ],\n",
       "       [479.0559 ],\n",
       "       [441.81433],\n",
       "       [419.25687],\n",
       "       [406.76663],\n",
       "       [407.27347],\n",
       "       [423.64914],\n",
       "       [446.53598],\n",
       "       [464.23355],\n",
       "       [477.80838],\n",
       "       [486.10175],\n",
       "       [490.8725 ],\n",
       "       [489.92017],\n",
       "       [490.02277],\n",
       "       [490.59607],\n",
       "       [495.84616],\n",
       "       [503.78174],\n",
       "       [512.9805 ],\n",
       "       [525.3237 ],\n",
       "       [552.63477],\n",
       "       [589.3832 ],\n",
       "       [621.84515],\n",
       "       [655.5933 ],\n",
       "       [678.52014],\n",
       "       [692.2144 ],\n",
       "       [694.94775],\n",
       "       [695.05634],\n",
       "       [690.7327 ],\n",
       "       [688.61646],\n",
       "       [696.0378 ],\n",
       "       [705.75745],\n",
       "       [724.96124],\n",
       "       [730.39716],\n",
       "       [720.92346],\n",
       "       [718.84644],\n",
       "       [717.7953 ],\n",
       "       [717.64197],\n",
       "       [720.414  ],\n",
       "       [723.6145 ],\n",
       "       [732.0777 ],\n",
       "       [740.6982 ],\n",
       "       [742.0682 ],\n",
       "       [741.5046 ],\n",
       "       [745.4886 ],\n",
       "       [748.88007],\n",
       "       [752.40186],\n",
       "       [754.7067 ]], dtype=float32)"
      ]
     },
     "execution_count": 25,
     "metadata": {},
     "output_type": "execute_result"
    }
   ],
   "source": [
    "predictions"
   ]
  },
  {
   "cell_type": "code",
   "execution_count": 26,
   "metadata": {},
   "outputs": [
    {
     "data": {
      "text/plain": [
       "45.76643250595245"
      ]
     },
     "execution_count": 26,
     "metadata": {},
     "output_type": "execute_result"
    }
   ],
   "source": [
    "#Get the roor mean squared error (RMSE)\n",
    "rmse= np.sqrt(np.mean(((predictions- y_test)**2)))\n",
    "rmse"
   ]
  },
  {
   "cell_type": "code",
   "execution_count": 36,
   "metadata": {},
   "outputs": [
    {
     "name": "stdout",
     "output_type": "stream",
     "text": [
      "374\n",
      "374\n",
      "374\n",
      "(374, 1)\n"
     ]
    },
    {
     "ename": "AttributeError",
     "evalue": "'list' object has no attribute 'shape'",
     "output_type": "error",
     "traceback": [
      "\u001b[1;31m---------------------------------------------------------------------------\u001b[0m",
      "\u001b[1;31mAttributeError\u001b[0m                            Traceback (most recent call last)",
      "\u001b[1;32m<ipython-input-36-9a3a9254482d>\u001b[0m in \u001b[0;36m<module>\u001b[1;34m\u001b[0m\n\u001b[0;32m      3\u001b[0m \u001b[0mprint\u001b[0m\u001b[1;33m(\u001b[0m\u001b[0mlen\u001b[0m\u001b[1;33m(\u001b[0m\u001b[0mtesla\u001b[0m\u001b[1;33m[\u001b[0m\u001b[0mtraining_data_len\u001b[0m\u001b[1;33m:\u001b[0m\u001b[1;33m]\u001b[0m\u001b[1;33m)\u001b[0m\u001b[1;33m)\u001b[0m\u001b[1;33m\u001b[0m\u001b[1;33m\u001b[0m\u001b[0m\n\u001b[0;32m      4\u001b[0m \u001b[0mprint\u001b[0m\u001b[1;33m(\u001b[0m\u001b[0mtesla\u001b[0m\u001b[1;33m[\u001b[0m\u001b[0mtraining_data_len\u001b[0m\u001b[1;33m:\u001b[0m\u001b[1;33m]\u001b[0m\u001b[1;33m.\u001b[0m\u001b[0mshape\u001b[0m\u001b[1;33m)\u001b[0m\u001b[1;33m\u001b[0m\u001b[1;33m\u001b[0m\u001b[0m\n\u001b[1;32m----> 5\u001b[1;33m \u001b[0mprint\u001b[0m\u001b[1;33m(\u001b[0m\u001b[0mpredictions\u001b[0m\u001b[1;33m.\u001b[0m\u001b[0mshape\u001b[0m\u001b[1;33m)\u001b[0m\u001b[1;33m\u001b[0m\u001b[1;33m\u001b[0m\u001b[0m\n\u001b[0m\u001b[0;32m      6\u001b[0m \u001b[0mprint\u001b[0m\u001b[1;33m(\u001b[0m\u001b[0mdates_validation\u001b[0m\u001b[1;33m.\u001b[0m\u001b[0mshape\u001b[0m\u001b[1;33m)\u001b[0m\u001b[1;33m\u001b[0m\u001b[1;33m\u001b[0m\u001b[0m\n",
      "\u001b[1;31mAttributeError\u001b[0m: 'list' object has no attribute 'shape'"
     ]
    }
   ],
   "source": [
    "print(len(dates_validation))\n",
    "print(len(predictions))\n",
    "print(len(tesla[training_data_len:]))\n",
    "print(tesla[training_data_len:].shape)\n",
    "print(predictions.shape)\n",
    "print(dates_validation.shape)"
   ]
  },
  {
   "cell_type": "code",
   "execution_count": 37,
   "metadata": {},
   "outputs": [
    {
     "ename": "TypeError",
     "evalue": "'numpy.float32' object is not iterable",
     "output_type": "error",
     "traceback": [
      "\u001b[1;31m---------------------------------------------------------------------------\u001b[0m",
      "\u001b[1;31mTypeError\u001b[0m                                 Traceback (most recent call last)",
      "\u001b[1;32m<ipython-input-37-6db1db319460>\u001b[0m in \u001b[0;36m<module>\u001b[1;34m\u001b[0m\n\u001b[1;32m----> 1\u001b[1;33m \u001b[0mpredictions\u001b[0m \u001b[1;33m=\u001b[0m \u001b[1;33m[\u001b[0m\u001b[0mi\u001b[0m \u001b[1;32mfor\u001b[0m \u001b[0mlst\u001b[0m \u001b[1;32min\u001b[0m \u001b[0mpredictions\u001b[0m \u001b[1;32mfor\u001b[0m \u001b[0mi\u001b[0m \u001b[1;32min\u001b[0m \u001b[0mlst\u001b[0m\u001b[1;33m]\u001b[0m\u001b[1;33m\u001b[0m\u001b[1;33m\u001b[0m\u001b[0m\n\u001b[0m",
      "\u001b[1;32m<ipython-input-37-6db1db319460>\u001b[0m in \u001b[0;36m<listcomp>\u001b[1;34m(.0)\u001b[0m\n\u001b[1;32m----> 1\u001b[1;33m \u001b[0mpredictions\u001b[0m \u001b[1;33m=\u001b[0m \u001b[1;33m[\u001b[0m\u001b[0mi\u001b[0m \u001b[1;32mfor\u001b[0m \u001b[0mlst\u001b[0m \u001b[1;32min\u001b[0m \u001b[0mpredictions\u001b[0m \u001b[1;32mfor\u001b[0m \u001b[0mi\u001b[0m \u001b[1;32min\u001b[0m \u001b[0mlst\u001b[0m\u001b[1;33m]\u001b[0m\u001b[1;33m\u001b[0m\u001b[1;33m\u001b[0m\u001b[0m\n\u001b[0m",
      "\u001b[1;31mTypeError\u001b[0m: 'numpy.float32' object is not iterable"
     ]
    }
   ],
   "source": [
    "predictions = [i for lst in predictions for i in lst]"
   ]
  },
  {
   "cell_type": "code",
   "execution_count": 39,
   "metadata": {},
   "outputs": [],
   "source": [
    "tests = [i for lst in tesla[:training_data_len] for i in lst]"
   ]
  },
  {
   "cell_type": "code",
   "execution_count": 40,
   "metadata": {},
   "outputs": [],
   "source": [
    "validation = [i for lst in tesla[training_data_len:] for i in lst]"
   ]
  },
  {
   "cell_type": "code",
   "execution_count": null,
   "metadata": {},
   "outputs": [],
   "source": [
    "dates_train =  [i for lst in dates_training for i in lst]\n"
   ]
  },
  {
   "cell_type": "code",
   "execution_count": 42,
   "metadata": {
    "scrolled": false
   },
   "outputs": [
    {
     "name": "stderr",
     "output_type": "stream",
     "text": [
      "C:\\Users\\usuario\\Anaconda3\\lib\\site-packages\\ipykernel_launcher.py:5: FutureWarning: Sorting because non-concatenation axis is not aligned. A future version\n",
      "of pandas will change to not sort by default.\n",
      "\n",
      "To accept the future behavior, pass 'sort=False'.\n",
      "\n",
      "To retain the current behavior and silence the warning, pass 'sort=True'.\n",
      "\n",
      "  \"\"\"\n"
     ]
    },
    {
     "data": {
      "text/html": [
       "<div>\n",
       "<style scoped>\n",
       "    .dataframe tbody tr th:only-of-type {\n",
       "        vertical-align: middle;\n",
       "    }\n",
       "\n",
       "    .dataframe tbody tr th {\n",
       "        vertical-align: top;\n",
       "    }\n",
       "\n",
       "    .dataframe thead th {\n",
       "        text-align: right;\n",
       "    }\n",
       "</style>\n",
       "<table border=\"1\" class=\"dataframe\">\n",
       "  <thead>\n",
       "    <tr style=\"text-align: right;\">\n",
       "      <th></th>\n",
       "      <th>Prediction</th>\n",
       "      <th>Training</th>\n",
       "      <th>Validation</th>\n",
       "    </tr>\n",
       "    <tr>\n",
       "      <th>Date</th>\n",
       "      <th></th>\n",
       "      <th></th>\n",
       "      <th></th>\n",
       "    </tr>\n",
       "  </thead>\n",
       "  <tbody>\n",
       "    <tr>\n",
       "      <td>2012-12-14</td>\n",
       "      <td>NaN</td>\n",
       "      <td>33.779999</td>\n",
       "      <td>NaN</td>\n",
       "    </tr>\n",
       "    <tr>\n",
       "      <td>2012-12-17</td>\n",
       "      <td>NaN</td>\n",
       "      <td>33.770000</td>\n",
       "      <td>NaN</td>\n",
       "    </tr>\n",
       "    <tr>\n",
       "      <td>2012-12-18</td>\n",
       "      <td>NaN</td>\n",
       "      <td>34.259998</td>\n",
       "      <td>NaN</td>\n",
       "    </tr>\n",
       "    <tr>\n",
       "      <td>2012-12-19</td>\n",
       "      <td>NaN</td>\n",
       "      <td>34.750000</td>\n",
       "      <td>NaN</td>\n",
       "    </tr>\n",
       "    <tr>\n",
       "      <td>2012-12-20</td>\n",
       "      <td>NaN</td>\n",
       "      <td>34.509998</td>\n",
       "      <td>NaN</td>\n",
       "    </tr>\n",
       "  </tbody>\n",
       "</table>\n",
       "</div>"
      ],
      "text/plain": [
       "            Prediction   Training  Validation\n",
       "Date                                         \n",
       "2012-12-14         NaN  33.779999         NaN\n",
       "2012-12-17         NaN  33.770000         NaN\n",
       "2012-12-18         NaN  34.259998         NaN\n",
       "2012-12-19         NaN  34.750000         NaN\n",
       "2012-12-20         NaN  34.509998         NaN"
      ]
     },
     "execution_count": 42,
     "metadata": {},
     "output_type": "execute_result"
    }
   ],
   "source": [
    "df_t = pd.DataFrame({'Date': dates_training, 'Training':tests})\n",
    "df_t.set_index('Date', inplace=True)\n",
    "df_vp = pd.DataFrame({'Date':dates_validation, 'Validation':validation, 'Prediction':predictions})\n",
    "df_vp.set_index('Date', inplace=True)\n",
    "merged_shit = pd.concat([df_t, df_vp])\n",
    "merged_shit.head()"
   ]
  },
  {
   "cell_type": "code",
   "execution_count": 58,
   "metadata": {},
   "outputs": [
    {
     "data": {
      "image/png": "[encoded data removed]",
      "text/plain": [
       "<Figure size 1152x576 with 1 Axes>"
      ]
     },
     "metadata": {
      "needs_background": "light"
     },
     "output_type": "display_data"
    }
   ],
   "source": [
    "plt.figure(figsize=(16,8))\n",
    "plt.plot(merged_shit.Training)\n",
    "plt.plot(merged_shit.Validation)\n",
    "plt.plot(merged_shit.Prediction)\n",
    "merged_shit = merged_shit.fillna(value=0)\n",
    "merged_shit = merged_shit[['Prediction', 'Training', 'Validation']].apply(lambda x:(round(x,2)))\n",
    "merged_shit.to_csv('../02 CSV_files/predictions/tesla_predictions.csv')"
   ]
  },
  {
   "cell_type": "code",
   "execution_count": 56,
   "metadata": {},
   "outputs": [
    {
     "name": "stdout",
     "output_type": "stream",
     "text": [
      "<class 'pandas.core.frame.DataFrame'>\n",
      "DatetimeIndex: 1872 entries, 2012-12-14 to 2020-05-22\n",
      "Data columns (total 3 columns):\n",
      "Prediction    1872 non-null float64\n",
      "Training      1872 non-null float64\n",
      "Validation    1872 non-null float64\n",
      "dtypes: float64(3)\n",
      "memory usage: 58.5 KB\n"
     ]
    }
   ],
   "source": []
  },
  {
   "cell_type": "code",
   "execution_count": 51,
   "metadata": {},
   "outputs": [
    {
     "data": {
      "text/html": [
       "<div>\n",
       "<style scoped>\n",
       "    .dataframe tbody tr th:only-of-type {\n",
       "        vertical-align: middle;\n",
       "    }\n",
       "\n",
       "    .dataframe tbody tr th {\n",
       "        vertical-align: top;\n",
       "    }\n",
       "\n",
       "    .dataframe thead th {\n",
       "        text-align: right;\n",
       "    }\n",
       "</style>\n",
       "<table border=\"1\" class=\"dataframe\">\n",
       "  <thead>\n",
       "    <tr style=\"text-align: right;\">\n",
       "      <th></th>\n",
       "      <th>Prediction</th>\n",
       "      <th>Training</th>\n",
       "      <th>Validation</th>\n",
       "    </tr>\n",
       "    <tr>\n",
       "      <th>Date</th>\n",
       "      <th></th>\n",
       "      <th></th>\n",
       "      <th></th>\n",
       "    </tr>\n",
       "  </thead>\n",
       "  <tbody>\n",
       "    <tr>\n",
       "      <td>2012-12-14</td>\n",
       "      <td>0.000000</td>\n",
       "      <td>33.779999</td>\n",
       "      <td>0.000000</td>\n",
       "    </tr>\n",
       "    <tr>\n",
       "      <td>2012-12-17</td>\n",
       "      <td>0.000000</td>\n",
       "      <td>33.770000</td>\n",
       "      <td>0.000000</td>\n",
       "    </tr>\n",
       "    <tr>\n",
       "      <td>2012-12-18</td>\n",
       "      <td>0.000000</td>\n",
       "      <td>34.259998</td>\n",
       "      <td>0.000000</td>\n",
       "    </tr>\n",
       "    <tr>\n",
       "      <td>2012-12-19</td>\n",
       "      <td>0.000000</td>\n",
       "      <td>34.750000</td>\n",
       "      <td>0.000000</td>\n",
       "    </tr>\n",
       "    <tr>\n",
       "      <td>2012-12-20</td>\n",
       "      <td>0.000000</td>\n",
       "      <td>34.509998</td>\n",
       "      <td>0.000000</td>\n",
       "    </tr>\n",
       "    <tr>\n",
       "      <td>...</td>\n",
       "      <td>...</td>\n",
       "      <td>...</td>\n",
       "      <td>...</td>\n",
       "    </tr>\n",
       "    <tr>\n",
       "      <td>2020-05-18</td>\n",
       "      <td>741.504578</td>\n",
       "      <td>0.000000</td>\n",
       "      <td>827.780029</td>\n",
       "    </tr>\n",
       "    <tr>\n",
       "      <td>2020-05-19</td>\n",
       "      <td>745.488586</td>\n",
       "      <td>0.000000</td>\n",
       "      <td>815.169983</td>\n",
       "    </tr>\n",
       "    <tr>\n",
       "      <td>2020-05-20</td>\n",
       "      <td>748.880066</td>\n",
       "      <td>0.000000</td>\n",
       "      <td>820.500000</td>\n",
       "    </tr>\n",
       "    <tr>\n",
       "      <td>2020-05-21</td>\n",
       "      <td>752.401855</td>\n",
       "      <td>0.000000</td>\n",
       "      <td>816.000000</td>\n",
       "    </tr>\n",
       "    <tr>\n",
       "      <td>2020-05-22</td>\n",
       "      <td>754.706726</td>\n",
       "      <td>0.000000</td>\n",
       "      <td>822.169983</td>\n",
       "    </tr>\n",
       "  </tbody>\n",
       "</table>\n",
       "<p>1872 rows × 3 columns</p>\n",
       "</div>"
      ],
      "text/plain": [
       "            Prediction   Training  Validation\n",
       "Date                                         \n",
       "2012-12-14    0.000000  33.779999    0.000000\n",
       "2012-12-17    0.000000  33.770000    0.000000\n",
       "2012-12-18    0.000000  34.259998    0.000000\n",
       "2012-12-19    0.000000  34.750000    0.000000\n",
       "2012-12-20    0.000000  34.509998    0.000000\n",
       "...                ...        ...         ...\n",
       "2020-05-18  741.504578   0.000000  827.780029\n",
       "2020-05-19  745.488586   0.000000  815.169983\n",
       "2020-05-20  748.880066   0.000000  820.500000\n",
       "2020-05-21  752.401855   0.000000  816.000000\n",
       "2020-05-22  754.706726   0.000000  822.169983\n",
       "\n",
       "[1872 rows x 3 columns]"
      ]
     },
     "execution_count": 51,
     "metadata": {},
     "output_type": "execute_result"
    }
   ],
   "source": [
    "merged_shit"
   ]
  },
  {
   "cell_type": "code",
   "execution_count": 96,
   "metadata": {},
   "outputs": [
    {
     "name": "stderr",
     "output_type": "stream",
     "text": [
      "C:\\Users\\usuario\\Anaconda3\\lib\\site-packages\\ipykernel_launcher.py:11: MatplotlibDeprecationWarning: Unrecognized location ' lower right'. Falling back on 'best'; valid locations are\n",
      "\tbest\n",
      "\tupper right\n",
      "\tupper left\n",
      "\tlower left\n",
      "\tlower right\n",
      "\tright\n",
      "\tcenter left\n",
      "\tcenter right\n",
      "\tlower center\n",
      "\tupper center\n",
      "\tcenter\n",
      "This will raise an exception in 3.3.\n",
      "  # This is added back by InteractiveShellApp.init_path()\n"
     ]
    },
    {
     "data": {
      "image/png": "[encoded data removed]",
      "text/plain": [
       "<Figure size 1152x576 with 1 Axes>"
      ]
     },
     "metadata": {},
     "output_type": "display_data"
    }
   ],
   "source": [
    "train = pd.DataFrame(tesla[:training_data_len])\n",
    "valid = pd.DataFrame(tesla[training_data_len:])\n",
    "valid['Predictions'] = predictions\n",
    "#Visualize the data\n",
    "plt.figure(figsize=(16,8))\n",
    "plt.title('Model')\n",
    "plt.xlabel('Date', fontsize = 18)\n",
    "plt.ylabel('Open Price USD', fontsize = 18)\n",
    "plt.plot(train[0])\n",
    "plt.plot(valid[[0, 'Predictions']])\n",
    "plt.legend(['Train', 'Val', 'Predictions'], loc = ' lower right')\n",
    "plt.show()"
   ]
  }
 ],
 "metadata": {
  "kernelspec": {
   "display_name": "Python 3",
   "language": "python",
   "name": "python3"
  },
  "language_info": {
   "codemirror_mode": {
    "name": "ipython",
    "version": 3
   },
   "file_extension": ".py",
   "mimetype": "text/x-python",
   "name": "python",
   "nbconvert_exporter": "python",
   "pygments_lexer": "ipython3",
   "version": "3.7.4"
  }
 },
 "nbformat": 4,
 "nbformat_minor": 2
}
